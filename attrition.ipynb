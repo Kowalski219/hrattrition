{
 "cells": [
  {
   "cell_type": "code",
   "execution_count": null,
   "metadata": {
    "vscode": {
     "languageId": "sql"
    }
   },
   "outputs": [],
   "source": [
    "-- Active: 1688313602053@@127.0.0.1@5432@meriskill@public\n",
    "SELECT * FROM hra;"
   ]
  },
  {
   "attachments": {},
   "cell_type": "markdown",
   "metadata": {},
   "source": [
    "                                            Checking For NULL Values"
   ]
  },
  {
   "cell_type": "code",
   "execution_count": null,
   "metadata": {
    "vscode": {
     "languageId": "sql"
    }
   },
   "outputs": [],
   "source": [
    "-- Active: 1688313602053@@127.0.0.1@5432@meriskill@public\n",
    "SELECT *\n",
    "FROM hra\n",
    "WHERE (\n",
    "    Age IS NULL OR\n",
    "    Attrition IS NULL OR\n",
    "    BusinessTravel IS NULL OR\n",
    "    DailyRate IS NULL OR\n",
    "    Department IS NULL OR\n",
    "    DistanceFromHome IS NULL OR\n",
    "    Education IS NULL OR\n",
    "    EducationField IS NULL OR\n",
    "    EmployeeCount IS NULL OR\n",
    "    EmployeeNumber IS NULL OR\n",
    "    EnvironmentSatisfaction IS NULL OR\n",
    "    Gender IS NULL OR\n",
    "    HourlyRate IS NULL OR\n",
    "    JobInvolvement IS NULL OR\n",
    "    JobLevel IS NULL OR\n",
    "    JobRole IS NULL OR\n",
    "    JobSatisfaction IS NULL OR\n",
    "    MaritalStatus IS NULL OR\n",
    "    MonthlyIncome IS NULL OR\n",
    "    MonthlyRate IS NULL OR\n",
    "    NumCompaniesWorked IS NULL OR\n",
    "    Over18 IS NULL OR\n",
    "    OverTime IS NULL OR\n",
    "    PercentSalaryHike IS NULL OR\n",
    "    PerformanceRating IS NULL OR\n",
    "    RelationshipSatisfaction IS NULL OR\n",
    "    StandardHours IS NULL OR\n",
    "    StockOptionLevel IS NULL OR\n",
    "    TotalWorkingYears IS NULL OR\n",
    "    TrainingTimesLastYear IS NULL OR\n",
    "    WorkLifeBalance IS NULL OR\n",
    "    YearsAtCompany IS NULL OR\n",
    "    YearsInCurrentRole IS NULL OR\n",
    "    YearsSinceLastPromotion IS NULL OR\n",
    "    YearsWithCurrManager IS NULL\n",
    ");\n"
   ]
  },
  {
   "attachments": {},
   "cell_type": "markdown",
   "metadata": {},
   "source": [
    "                                 Checking For Duplicates"
   ]
  },
  {
   "cell_type": "code",
   "execution_count": null,
   "metadata": {
    "vscode": {
     "languageId": "sql"
    }
   },
   "outputs": [],
   "source": [
    "-- Active: 1688313602053@@127.0.0.1@5432@meriskill@public\n",
    "SELECT *\n",
    "FROM hra\n",
    "GROUP BY\n",
    "  Age, Attrition, BusinessTravel, DailyRate, Department, DistanceFromHome,\n",
    "  Education, EducationField, EmployeeCount, EmployeeNumber, EnvironmentSatisfaction,\n",
    "  Gender, HourlyRate, JobInvolvement, JobLevel, JobRole, JobSatisfaction, MaritalStatus,\n",
    "  MonthlyIncome, MonthlyRate, NumCompaniesWorked, Over18, OverTime, PercentSalaryHike,\n",
    "  PerformanceRating, RelationshipSatisfaction, StandardHours, StockOptionLevel,\n",
    "  TotalWorkingYears, TrainingTimesLastYear, WorkLifeBalance, YearsAtCompany,\n",
    "  YearsInCurrentRole, YearsSinceLastPromotion, YearsWithCurrManager\n",
    "HAVING COUNT(*) > 1;\n"
   ]
  },
  {
   "attachments": {},
   "cell_type": "markdown",
   "metadata": {},
   "source": [
    "                                    Renaming Column Headings To Lower Cases and Eliminating Spaces"
   ]
  },
  {
   "cell_type": "code",
   "execution_count": null,
   "metadata": {
    "vscode": {
     "languageId": "sql"
    }
   },
   "outputs": [],
   "source": [
    "-- Active: 1688313602053@@127.0.0.1@5432@meriskill@public\n",
    " --renaming the remaining columns\n",
    "ALTER TABLE hra\n",
    "RENAME COLUMN \"Education\" TO \"education\";\n",
    "ALTER TABLE hra\n",
    "RENAME COLUMN \"EducationField\" TO \"educationfield\";\n",
    "ALTER TABLE hra\n",
    "RENAME COLUMN \"EmployeeCount\" TO \"employeecount\"; \n",
    "ALTER TABLE hra\n",
    "RENAME COLUMN \"EmployeeNumber\" TO \"employeenumber\";\n",
    "ALTER TABLE hra\n",
    "RENAME COLUMN \"EnvironmentSatisfaction\" TO \"environmentsatisfaction\";\n",
    "ALTER TABLE hra\n",
    "RENAME COLUMN \"Gender\" TO \"gender\";\n",
    "ALTER TABLE hra\n",
    "RENAME COLUMN \"HourlyRate\" TO \"hourlyrate\";\n",
    "ALTER TABLE hra\n",
    "RENAME COLUMN \"JobInvolvement\" TO \"jobinvolvement\";\n",
    "ALTER TABLE hra\n",
    "RENAME COLUMN \"JobLevel\" TO \"joblevel\";\n",
    "ALTER TABLE hra\n",
    "RENAME COLUMN \"JobRole\" TO \"jobrole\";\n",
    "ALTER TABLE hra\n",
    "RENAME COLUMN \"JobSatisfaction\" TO \"jobsatisfaction\";\n",
    "ALTER TABLE hra\n",
    "RENAME COLUMN \"MaritalStatus\" TO \"maritalstatus\";\n",
    "ALTER TABLE hra\n",
    "RENAME COLUMN \"MonthlyIncome\" TO \"monthlyincome\";\n",
    "ALTER TABLE hra\n",
    "RENAME COLUMN \"MonthlyRate\" TO \"monthlyrate\";\n",
    "ALTER TABLE hra\n",
    "RENAME COLUMN \"NumCompaniesWorked\" TO \"numcompaniesworked\";\n",
    "ALTER TABLE hra\n",
    "RENAME COLUMN \"Over18\" TO \"over18\";\n",
    "ALTER TABLE hra\n",
    "RENAME COLUMN \"OverTime\" TO \"overtime\";\n",
    "ALTER TABLE hra\n",
    "RENAME COLUMN \"PercentSalaryHike\" TO \"percentsalaryhike\";\n",
    "ALTER TABLE hra\n",
    "RENAME COLUMN \"PerformanceRating\" TO \"performancerating\";\n",
    "ALTER TABLE hra\n",
    "RENAME COLUMN \"RelationshipSatisfaction\" TO \"relationshipsatisfaction\";\n",
    "ALTER TABLE hra\n",
    "RENAME COLUMN \"StandardHours\" TO \"standardhours\";\n",
    "ALTER TABLE hra\n",
    "RENAME COLUMN \"StockOptionLevel\" TO \"stockoptionlevel\";\n",
    "ALTER TABLE hra\n",
    "RENAME COLUMN \"TotalWorkingYears\" TO \"totalworkingyears\";\n",
    "ALTER TABLE hra\n",
    "RENAME COLUMN \"TrainingTimesLastYear\" TO \"trainingtimeslastyear\";\n",
    "ALTER TABLE hra\n",
    "RENAME COLUMN \"WorkLifeBalance\" TO \"worklifebalance\";\n",
    "ALTER TABLE hra\n",
    "RENAME COLUMN \"YearsAtCompany\" TO \"yearsatcompany\";\n",
    "ALTER TABLE hra\n",
    "RENAME COLUMN \"YearsInCurrentRole\" TO \"yearsincurrentrole\";\n",
    "ALTER TABLE hra\n",
    "RENAME COLUMN \"YearsSinceLastPromotion\" TO \"yearssincelastpromotion\";\n",
    "ALTER TABLE hra\n",
    "RENAME COLUMN \"YearsWithCurrManager\" TO \"yearswithcurrmanager\";\n"
   ]
  },
  {
   "attachments": {},
   "cell_type": "markdown",
   "metadata": {},
   "source": [
    "                                        Job Role Prone To Attrition"
   ]
  },
  {
   "cell_type": "code",
   "execution_count": null,
   "metadata": {
    "vscode": {
     "languageId": "sql"
    }
   },
   "outputs": [],
   "source": [
    "-- Active: 1688313602053@@127.0.0.1@5432@meriskill@public\n",
    "CREATE TABLE attritionjobrole(job_role VARCHAR(200),attrition NUMERIC);\n",
    "INSERT INTO attritionjobrole(job_role,attrition)\n",
    "SELECT \n",
    "    jobrole AS job_role,\n",
    "    SUM(CASE WHEN attrition='Yes' THEN 1 ELSE 0 END) AS attrition\n",
    "FROM hra\n",
    "GROUP BY job_role\n",
    "ORDER BY attrition DESC;\n"
   ]
  },
  {
   "attachments": {},
   "cell_type": "markdown",
   "metadata": {},
   "source": [
    "Laboratory Technician job role has the highest attrition, followed by Sales Executive and Research Scientist. Conversely, the Research Director job role has the lowest attrition. "
   ]
  },
  {
   "attachments": {},
   "cell_type": "markdown",
   "metadata": {},
   "source": [
    "                                        Attrition By Age"
   ]
  },
  {
   "cell_type": "code",
   "execution_count": null,
   "metadata": {
    "vscode": {
     "languageId": "sql"
    }
   },
   "outputs": [],
   "source": [
    "-- Active: 1688313602053@@127.0.0.1@5432@meriskill@public\n",
    "CREATE TABLE attritionage (attrition NUMERIC,retention NUMERIC,age_bin VARCHAR(200));\n",
    "INSERT INTO attritionage(attrition,retention,age_bin)\n",
    "SELECT\n",
    "    SUM(CASE WHEN attrition = 'Yes' THEN 1 ELSE 0 END) AS attrition,\n",
    "    SUM(CASE WHEN attrition = 'No' THEN 1 ELSE 0 END) AS retention,\n",
    "    CASE\n",
    "        WHEN age BETWEEN 18 AND 25 THEN '18-25'\n",
    "        WHEN age BETWEEN 26 AND 33 THEN '26-33'\n",
    "        WHEN age BETWEEN 34 AND 41 THEN '34-41'\n",
    "        WHEN age BETWEEN 42 AND 49 THEN '42-49'\n",
    "        WHEN age BETWEEN 56 AND 60 THEN '56-60'\n",
    "        ELSE 'Other' \n",
    "    END AS age_bin\n",
    "FROM hra\n",
    "GROUP BY age_bin;\n",
    "\n"
   ]
  },
  {
   "attachments": {},
   "cell_type": "markdown",
   "metadata": {},
   "source": [
    "Age 26-33: There were 97 attrition cases in this age group.\n",
    "Other Ages: There were 15 attrition cases in age groups not specified (Other).\n",
    "Age 56-60: There were 8 attrition cases in this age group.\n",
    "Age 18-25: There were 44 attrition cases in this younger age group.\n",
    "Age 42-49: There were 23 attrition cases in this age group.\n",
    "Age 34-41: There were 50 attrition cases in this age group.\n",
    "This data illustrates the attrition distribution across different age groups. The age group 26-33 has the highest number of attrition cases, while other age groups, such as 56-60, exhibit lower attrition rates. "
   ]
  },
  {
   "attachments": {},
   "cell_type": "markdown",
   "metadata": {},
   "source": [
    "                                        Attrition By Department"
   ]
  },
  {
   "cell_type": "code",
   "execution_count": null,
   "metadata": {
    "vscode": {
     "languageId": "sql"
    }
   },
   "outputs": [],
   "source": [
    "-- Active: 1688313602053@@127.0.0.1@5432@meriskill@public\n",
    "CREATE TABLE attritiondpr (department VARCHAR(50),attrition_count NUMERIC);\n",
    "INSERT INTO attritiondpr (department,attrition_count)\n",
    "SELECT \n",
    "    department,\n",
    "    SUM(CASE WHEN attrition='Yes' THEN 1 ELSE 0 END) AS attrition_count\n",
    "FROM hra\n",
    "GROUP BY department\n",
    "ORDER BY attrition_count DESC;"
   ]
  },
  {
   "attachments": {},
   "cell_type": "markdown",
   "metadata": {},
   "source": [
    "Research & Development: This department experienced 133 attrition cases.\n",
    "Sales: The Sales department had 92 attrition cases.\n",
    "Human Resources: The Human Resources department saw 12 attrition cases. Research & Development had the highest attrition cases, followed by the Sales department, while the Human Resources department had the lowest attrition rate. "
   ]
  },
  {
   "attachments": {},
   "cell_type": "markdown",
   "metadata": {},
   "source": [
    "                                            Attrition By Gender\n",
    "                                        "
   ]
  },
  {
   "cell_type": "code",
   "execution_count": null,
   "metadata": {
    "vscode": {
     "languageId": "sql"
    }
   },
   "outputs": [],
   "source": [
    "-- Active: 1688313602053@@127.0.0.1@5432@meriskill@public\n",
    "CREATE TABLE attritiongender (gender VARCHAR(150), attrition NUMERIC);\n",
    "INSERT INTO attritiongender(gender,attrition)\n",
    "SELECT \n",
    "    gender,\n",
    "   SUM(CASE WHEN attrition='Yes' THEN 1 ELSE 0 END) AS attrition\n",
    "FROM hra\n",
    "GROUP BY gender;"
   ]
  },
  {
   "attachments": {},
   "cell_type": "markdown",
   "metadata": {},
   "source": [
    "In our analysis, we explored attrition cases based on gender within the organization. The data indicates the following:\n",
    "\n",
    "Female: There were 87 attrition cases among female employees.\n",
    "Male: Male employees experienced 150 attrition cases.\n",
    "These numbers offer insights into attrition rates among different genders. It's apparent that male employees had a higher number of attrition cases compared to their female counterparts."
   ]
  },
  {
   "attachments": {},
   "cell_type": "markdown",
   "metadata": {},
   "source": [
    "                                  Does Job Satisfaction Affect Attriction?"
   ]
  },
  {
   "cell_type": "code",
   "execution_count": null,
   "metadata": {
    "vscode": {
     "languageId": "sql"
    }
   },
   "outputs": [],
   "source": [
    "-- Active: 1688313602053@@127.0.0.1@5432@meriskill@public\n",
    "CREATE TABLE attritionsatisfaction (jobsatisfaction NUMERIC,attrition NUMERIC);\n",
    "INSERT INTO attritionsatisfaction(jobsatisfaction,attrition)\n",
    "\n",
    "SELECT \n",
    "    jobsatisfaction,\n",
    "    SUM(CASE WHEN attrition='Yes' THEN 1 ELSE 0 END) AS attrition\n",
    "FROM hra\n",
    "GROUP BY jobsatisfaction\n",
    "ORDER BY attrition DESC;"
   ]
  },
  {
   "attachments": {},
   "cell_type": "markdown",
   "metadata": {},
   "source": [
    "In our analysis, we investigated the potential relationship between job satisfaction and attrition within the organization. The data was represented as follows:\n",
    "\n",
    "Job Satisfaction: The job satisfaction scores ranged from 1 to 4, with 1 being the lowest and 4 being the highest.\n",
    "Attrition: The number of attrition cases associated with each level of job satisfaction.\n",
    "Upon visualizing this data with a scatter plot, we observed that there wasn't a strong correlation between job satisfaction levels and attrition cases. In other words, the data points were scattered without a clear linear trend, indicating that job satisfaction alone may not be a dominant factor in predicting or explaining attrition in the organization.\n",
    "\n",
    "This insight suggests that other factors or a combination of factors may play a more significant role in influencing attrition rates"
   ]
  },
  {
   "attachments": {},
   "cell_type": "markdown",
   "metadata": {},
   "source": [
    "                                        Does Enviromental Satisfaction Affect Attrition?"
   ]
  },
  {
   "cell_type": "code",
   "execution_count": null,
   "metadata": {
    "vscode": {
     "languageId": "sql"
    }
   },
   "outputs": [],
   "source": [
    "-- Active: 1688313602053@@127.0.0.1@5432@meriskill@public\n",
    "CREATE TABLE environment(enviromentalsatisfaction NUMERIC,attrition NUMERIC);\n",
    "INSERT INTO environment\n",
    "SELECT \n",
    "    environmentsatisfaction,\n",
    "    SUM(CASE WHEN attrition='Yes' THEN 1 ELSE 0 END) AS attrition\n",
    "FROM hra\n",
    "GROUP BY environmentsatisfaction\n",
    "ORDER BY attrition DESC;"
   ]
  },
  {
   "attachments": {},
   "cell_type": "markdown",
   "metadata": {},
   "source": [
    "In our analysis, we explored whether there was a correlation between environmental satisfaction and attrition within the organization. The data was represented as follows:\n",
    "\n",
    "Environmental Satisfaction: Environmental satisfaction scores ranged from 1 to 4, with 1 representing the lowest satisfaction level and 4 the highest.\n",
    "Attrition: The number of attrition cases associated with each level of environmental satisfaction.\n",
    "Upon visualizing this data with a scatter plot, it became evident that there was no strong correlation between environmental satisfaction levels and attrition cases. The data points were scattered without a discernible linear relationship, indicating that environmental satisfaction alone may not be the primary driver of attrition within the organization.\n",
    "\n",
    "This observation suggests that other factors or a combination of factors may have a more substantial influence on attrition rates. "
   ]
  },
  {
   "attachments": {},
   "cell_type": "markdown",
   "metadata": {},
   "source": [
    "                                                Attrition Rate"
   ]
  },
  {
   "cell_type": "code",
   "execution_count": null,
   "metadata": {
    "vscode": {
     "languageId": "sql"
    }
   },
   "outputs": [],
   "source": [
    "-- Active: 1688313602053@@127.0.0.1@5432@meriskill@public\n",
    "CREATE TABLE attritionrate(attrition_rate DECIMAL);\n",
    "INSERT INTO attritionrate(attrition_rate)\n",
    "SELECT\n",
    "   ROUND( (SUM(CASE WHEN attrition = 'Yes' THEN 1 ELSE 0 END)*1.0 / COUNT(*)),2) AS attrition_rate\n",
    "FROM hra;\n",
    "\n",
    "\n",
    "\n"
   ]
  },
  {
   "attachments": {},
   "cell_type": "markdown",
   "metadata": {},
   "source": [
    "16% of employees have left the organisation from the analysis"
   ]
  },
  {
   "attachments": {},
   "cell_type": "markdown",
   "metadata": {},
   "source": [
    "                                                    Average Age Of Employee"
   ]
  },
  {
   "cell_type": "code",
   "execution_count": null,
   "metadata": {
    "vscode": {
     "languageId": "sql"
    }
   },
   "outputs": [],
   "source": [
    "-- Active: 1688313602053@@127.0.0.1@5432@meriskill@public\n",
    "CREATE TABLE avgage(avg_age NUMERIC);\n",
    "INSERT INTO avgage(avg_age)\n",
    "SELECT \n",
    "    ROUND(AVG(age),0) AS avg_age\n",
    "FROM hra;"
   ]
  },
  {
   "attachments": {},
   "cell_type": "markdown",
   "metadata": {},
   "source": [
    "average agae of employees at the company, is 37"
   ]
  },
  {
   "attachments": {},
   "cell_type": "markdown",
   "metadata": {},
   "source": [
    "                                            Department With Highest Attrition"
   ]
  },
  {
   "cell_type": "code",
   "execution_count": null,
   "metadata": {
    "vscode": {
     "languageId": "sql"
    }
   },
   "outputs": [],
   "source": [
    "-- Active: 1688313602053@@127.0.0.1@5432@meriskill@public\n",
    "CREATE TABLE deptwithhighestattrition(department VARCHAR(100));\n",
    "INSERT INTO deptwithhighestattrition(department)\n",
    "SELECT  department\n",
    "FROM\n",
    "    (SELECT\n",
    "        department,\n",
    "        SUM(CASE WHEN attrition='Yes' THEN 1 ELSE 0 END) AS attrition\n",
    "    FROM hra\n",
    "        GROUP BY department\n",
    "        ORDER BY attrition DESC\n",
    "        LIMIT 1)\n",
    ";"
   ]
  },
  {
   "attachments": {},
   "cell_type": "markdown",
   "metadata": {},
   "source": [
    "                                                Average Monthly Income"
   ]
  },
  {
   "cell_type": "code",
   "execution_count": null,
   "metadata": {
    "vscode": {
     "languageId": "sql"
    }
   },
   "outputs": [],
   "source": [
    "-- Active: 1688313602053@@127.0.0.1@5432@meriskill@public\n",
    "CREATE TABLE avgmonthlyincome(avg_income NUMERIC);\n",
    "INSERT INTO avgmonthlyincome(avg_income)\n",
    "SELECT ROUND(AVG(monthlyincome),0) AS avg_income FROM hra;"
   ]
  },
  {
   "cell_type": "code",
   "execution_count": null,
   "metadata": {
    "vscode": {
     "languageId": "sql"
    }
   },
   "outputs": [],
   "source": [
    "-- Active: 1688313602053@@127.0.0.1@5432@meriskill@public\n",
    "SELECT  \n",
    "    AVG(age),\n",
    "    department,\n",
    "    gender,\n",
    "    monthlyincome\n",
    "FROM hra\n",
    "WHERE attrition='Yes'\n",
    "GROUP BY department,gender,monthlyincome;"
   ]
  },
  {
   "attachments": {},
   "cell_type": "markdown",
   "metadata": {},
   "source": [
    "                                                    Insights\n",
    "Attrition Rate: The overall attrition rate in the organization is approximately 16%. This rate provides an important baseline for understanding employee turnover and its potential impact on the organization.\n",
    "\n",
    "Job Role Prone to Attrition: The analysis identified that certain job roles have a higher likelihood of attrition. Laboratory Technicians, Sales Executives, and Research Scientists have a relatively higher number of attrition cases. Understanding the reasons behind attrition in these roles is crucial for retention strategies.\n",
    "\n",
    "Age and Attrition: There is a notable concentration of attrition in the 26-33 age group, with a smaller spike in the 18-25 age group. Age appears to be a factor contributing to attrition, and it's essential to understand why employees in these age groups are leaving.\n",
    "\n",
    "Departmental Impact: The Research & Development department experiences the highest attrition, followed by the Sales department, while the Human Resources department has the lowest attrition rate. Analyzing the reasons for attrition within different departments can help tailor retention strategies.\n",
    "\n",
    "Gender and Attrition: Male employees have a higher attrition rate compared to female employees. Understanding the underlying causes of this gender-related attrition disparity is important for achieving a more balanced workforce."
   ]
  },
  {
   "attachments": {},
   "cell_type": "markdown",
   "metadata": {},
   "source": [
    "                                                    Conclusion and Recommendation"
   ]
  },
  {
   "attachments": {},
   "cell_type": "markdown",
   "metadata": {},
   "source": [
    "The analysis of HR attrition within the organization reveals valuable insights into the factors contributing to employee turnover. With an overall attrition rate of approximately 16%, it is evident that attrition is a relevant concern that needs attention. Several key patterns and trends have emerged:\n",
    "\n",
    "Certain job roles, particularly Laboratory Technicians, Sales Executives, and Research Scientists, are prone to attrition.\n",
    "Age appears to influence attrition, with a concentration of cases in the 26-33 age group, indicating the importance of addressing the needs of employees in this age bracket.\n",
    "Departmental disparities in attrition rates highlight the need for tailored retention strategies across different functional areas.\n",
    "Gender disparities in attrition rates, with males experiencing higher attrition, underscore the importance of gender diversity and inclusion efforts.\n",
    "\n",
    "            Recommendations:\n",
    "\n",
    "To mitigate attrition and enhance overall employee satisfaction and retention, the following recommendations can be considered:\n",
    "\n",
    "Job Role-Specific Retention Strategies: Develop targeted retention strategies for job roles with high attrition rates. This may involve conducting employee surveys, exit interviews, and addressing issues specific to each role.\n",
    "\n",
    "Age-Appropriate Programs: Implement programs or policies that address the unique needs and aspirations of employees in the 26-33 age group, such as career development opportunities, mentorship programs, or work-life balance initiatives.\n",
    "\n",
    "Departmental Retention Plans: Collaborate with department heads to create department-specific retention plans. These plans should address departmental challenges and encourage engagement and job satisfaction.\n",
    "\n",
    "Gender Equality Initiatives: Investigate the causes of higher male attrition and take measures to promote gender equality within the organization. Address gender-related disparities in compensation, opportunities, and work environment.\n",
    "\n",
    "Regular Employee Feedback: Establish a feedback mechanism to continuously monitor employee satisfaction and attrition triggers. This can be done through regular surveys and stay interviews.\n",
    "\n",
    "Training and Development: Invest in professional development and training opportunities to ensure employees feel their skills and career goals are supported.\n",
    "\n",
    "Mentorship and Leadership Programs: Implement mentorship and leadership programs that help employees progress in their careers and feel a sense of belonging within the organization.\n",
    "\n",
    "Diversity and Inclusion Initiatives: Promote a diverse and inclusive work culture to create a more equitable and welcoming environment for all employees.\n",
    "\n",
    "Exit Interviews: Conduct meaningful exit interviews to understand the reasons behind employee departures and use this feedback for continuous improvement.\n",
    "\n",
    "Continuous Monitoring: Regularly review and assess the effectiveness of retention strategies, making adjustments as needed based on ongoing analysis and feedback."
   ]
  }
 ],
 "metadata": {
  "kernelspec": {
   "display_name": "Python 3",
   "language": "python",
   "name": "python3"
  },
  "language_info": {
   "codemirror_mode": {
    "name": "ipython",
    "version": 3
   },
   "file_extension": ".py",
   "mimetype": "text/x-python",
   "name": "python",
   "nbconvert_exporter": "python",
   "pygments_lexer": "ipython3",
   "version": "3.11.3"
  },
  "orig_nbformat": 4
 },
 "nbformat": 4,
 "nbformat_minor": 2
}
